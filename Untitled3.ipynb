{
  "nbformat": 4,
  "nbformat_minor": 0,
  "metadata": {
    "colab": {
      "provenance": [],
      "authorship_tag": "ABX9TyPSH7TFDtwclCcY0idadMSo",
      "include_colab_link": true
    },
    "kernelspec": {
      "name": "python3",
      "display_name": "Python 3"
    },
    "language_info": {
      "name": "python"
    }
  },
  "cells": [
    {
      "cell_type": "markdown",
      "metadata": {
        "id": "view-in-github",
        "colab_type": "text"
      },
      "source": [
        "<a href=\"https://colab.research.google.com/github/Akankshastudent/pythonbasics/blob/main/Untitled3.ipynb\" target=\"_parent\"><img src=\"https://colab.research.google.com/assets/colab-badge.svg\" alt=\"Open In Colab\"/></a>"
      ]
    },
    {
      "cell_type": "markdown",
      "source": [
        "**python assignment**"
      ],
      "metadata": {
        "id": "bD0zVf8oBEr7"
      }
    },
    {
      "cell_type": "markdown",
      "source": [
        "#(que1)What is Python, and why is it popular?\n",
        "python is general purpose interupted,interactive,object-oriented language.\n",
        "python is the type effective language which fimilar with the computer program.\n",
        "\n",
        "it highly used in industry becouse it have 1,37000 libraries,it is easy to used,\n",
        "and easy to understand language becouse most word are similar with english words\n",
        "design to be highly readable ."
      ],
      "metadata": {
        "id": "dr1_SexNArLC"
      }
    },
    {
      "cell_type": "markdown",
      "source": [
        "# What is an interpreter in Python?\n",
        "A Python interpreter is a program that reads and executes Python code line by line\n",
        "by translating it into machine-readable bytecode i.e 0 and 1"
      ],
      "metadata": {
        "id": "-rYdAHu-A2Wk"
      }
    },
    {
      "cell_type": "markdown",
      "source": [
        "# What are pre-defined keywords in Python\n",
        "the keywords or type of words which is already known to the compiler such as true,print,int,from,not,if,else,assert etc\n"
      ],
      "metadata": {
        "id": "n0wlIX0xGfjW"
      }
    },
    {
      "cell_type": "markdown",
      "source": [
        "\n",
        "# Can keywords be used as variable names?\n",
        "No,keyword are not used as variable name becouse it already have some meaning in python\n",
        "if we do that the meaning of that keyword will be changed.\n",
        "```\n",
        "\n",
        "```\n",
        "\n"
      ],
      "metadata": {
        "id": "zZCc1RNeBeCS"
      }
    },
    {
      "cell_type": "markdown",
      "source": [
        "# What is mutability in Python?\n",
        "mutability is change in the list after executing the code or after creating the list\n",
        "it is also called as item assignment."
      ],
      "metadata": {
        "id": "7cnLVwvRBlFV"
      }
    },
    {
      "cell_type": "markdown",
      "source": [
        "# Why are lists mutable, but tuples are immutable?\n",
        "list can  be changable but tuple is not changable because tuples use parentheses instead of square brackets,\n",
        "thats that is why list is mutable but tuple is immutable.\n"
      ],
      "metadata": {
        "id": "cABklFNrBlIG"
      }
    },
    {
      "cell_type": "markdown",
      "source": [
        "# What is the difference between “==” and “is” operators in Python?\n",
        "the \"==\" is comparison operator and \"is\" is keyword\n",
        "they are both used as a comparison but their purpose is different like The \"==\" operator checks for equality of values\n",
        "which means it evaluates whether the values of two objects are the same.\n",
        "And the 'is' operator checks for identity,\n",
        "meaning it determines whether two variables point to the same object in memory."
      ],
      "metadata": {
        "id": "EvrtfPmwBlKE"
      }
    },
    {
      "cell_type": "markdown",
      "source": [
        "# What are logical operators in Python?\n",
        "keywords that combines ans run the multiple conditions in a single expresion\n",
        "there are three type logical operator in python\n",
        ">and: return true if the confitions are true otherwise false\n",
        ">or:Returns True if either condition is true.\n",
        ">Not: Reverses the result, so if something is True, not turns it False."
      ],
      "metadata": {
        "id": "IyjqvsOEBlMb"
      }
    },
    {
      "cell_type": "markdown",
      "source": [
        "# What is type casting in Python?\n",
        "type casting is changing the type of thedata type from one datatype another\n",
        "like we can change integer into float for ex.\n",
        "a=2\n",
        "print(a)\n",
        "b=float(a)\n",
        "print(b)\n",
        "# output\n",
        "2\n",
        "2.0\n",
        "we can also do interger to str.\n",
        "but we cannot do string to integer becouse it have number form but we can change it by binary form ."
      ],
      "metadata": {
        "id": "lb11b8XwBlPp"
      }
    },
    {
      "cell_type": "markdown",
      "source": [
        "#What is the difference between implicit and explicit type casting?\n",
        ">> Implicit type casting\n",
        "The compiler automatically converts one data type to another to perform an operation.\n",
        "This is used to convert smaller data types to larger data typesand  it is usually invisible to the user.\n",
        ">> type casting\n",
        "we writes code to instruct the compiler to make a specific conversion.\n",
        "This is visible in the source code and gives us more control over the data conversion process."
      ],
      "metadata": {
        "id": "Xh70AmIjCKFG"
      }
    },
    {
      "cell_type": "markdown",
      "source": [
        "# What is the purpose of conditional statements in Python?\n",
        "for writing the many statements ans many cases in one program conditional statment is used.\n",
        " in real world there ae many possible conditions in one situation\n",
        " conditional statemanets are if,if-else,nested if and elif."
      ],
      "metadata": {
        "id": "sPpKdZbFCKV4"
      }
    },
    {
      "cell_type": "markdown",
      "source": [
        "#  How does the elif statement work?\n",
        " if the first condition is false, it moves on to the next “elif” statement to check if that condition is true.\n",
        " until the condition is true the nxt if is continously run for true conditions\n",
        " in elif statement more condition is satisfied ."
      ],
      "metadata": {
        "id": "i6uDBsSzCbRE"
      }
    },
    {
      "cell_type": "markdown",
      "source": [
        "# What is the difference between for and while loops?\n",
        "in for loop it repeat the block code for known number of times\n",
        "the conditions is given the loop is start until the fix number of times\n",
        "\n",
        "while loop the number of block code is repeat the unckon number of times"
      ],
      "metadata": {
        "id": "_Hef4ZirCken"
      }
    },
    {
      "cell_type": "markdown",
      "source": [
        "# Describe a scenario where a while loop is more suitable than a for loop?\n",
        "situations where the number of iterations is not predetermined and depends on some dynamic condition\n",
        "if the number of conditions are not define then the the while loop is suitable for the code until the true situation is meet the curser"
      ],
      "metadata": {
        "id": "jmxvkx3PCk3m"
      }
    },
    {
      "cell_type": "markdown",
      "source": [
        "#code from here"
      ],
      "metadata": {
        "id": "wo8f5vhEHWCd"
      }
    },
    {
      "cell_type": "code",
      "source": [
        "# Write a Python program to print \"Hello, World!\n",
        "a=(\"hellow world\")\n",
        "print(a)"
      ],
      "metadata": {
        "colab": {
          "base_uri": "https://localhost:8080/"
        },
        "id": "R11mDWcsBvT8",
        "outputId": "fa1aa249-de41-42d2-964f-d06c4a506eb2"
      },
      "execution_count": null,
      "outputs": [
        {
          "output_type": "stream",
          "name": "stdout",
          "text": [
            "hellow world\n"
          ]
        }
      ]
    },
    {
      "cell_type": "code",
      "source": [
        "# Write a Python program that displays your name and age?\n",
        "a=input(\"enter your name\")\n",
        "b=input(\"enter your age\")\n",
        "print(a)\n",
        "print(b)"
      ],
      "metadata": {
        "colab": {
          "base_uri": "https://localhost:8080/"
        },
        "id": "Hr1z0gniRivT",
        "outputId": "90d6f9a8-a648-4bd8-aabe-4705371c6ef6"
      },
      "execution_count": null,
      "outputs": [
        {
          "output_type": "stream",
          "name": "stdout",
          "text": [
            "enter your nameakanksha\n",
            "enter your age21\n",
            "akanksha\n",
            "21\n"
          ]
        }
      ]
    },
    {
      "cell_type": "code",
      "source": [
        "\n",
        "# Write code to print all the pre-defined keywords in Python using the keyword library.\n",
        "import keyword\n",
        "print(keyword.kwlist)"
      ],
      "metadata": {
        "colab": {
          "base_uri": "https://localhost:8080/"
        },
        "id": "ZkK-aq7LSFZc",
        "outputId": "1ff1717d-5fe5-4fa9-a1c6-e75d6e0d50d2"
      },
      "execution_count": null,
      "outputs": [
        {
          "output_type": "stream",
          "name": "stdout",
          "text": [
            "['False', 'None', 'True', 'and', 'as', 'assert', 'async', 'await', 'break', 'class', 'continue', 'def', 'del', 'elif', 'else', 'except', 'finally', 'for', 'from', 'global', 'if', 'import', 'in', 'is', 'lambda', 'nonlocal', 'not', 'or', 'pass', 'raise', 'return', 'try', 'while', 'with', 'yield']\n"
          ]
        }
      ]
    },
    {
      "cell_type": "code",
      "source": [
        "# :0 Write a program that checks if a given word is a Python keyword\n",
        "import keyword\n",
        "# initializing strings for testing while putting them in an array\n",
        "keys = [\"for\", \"akanksha\", \"elif\", \"elseif\", \"nikhil\",\n",
        "        \"assert\", \"shambhavi\", \"True\", \"False\", \"akshat\",\n",
        "        \"akash\", \"break\", \"ashty\", \"lambda\", \"suman\",\n",
        "        \"try\", \"vaishnavi\",\"try\",\"break\"]\n",
        "\n",
        "for i in range(len(keys)):\n",
        "     # checking which are keywords\n",
        "    if keyword.iskeyword(keys[i]):\n",
        "        print(keys[i] + \" is python keyword\")\n",
        "    else:\n",
        "        print(keys[i] + \" is not a python keyword\")"
      ],
      "metadata": {
        "colab": {
          "base_uri": "https://localhost:8080/"
        },
        "id": "WmUdjT5tU2qp",
        "outputId": "63c1c90b-e439-44b4-d959-2d2c98792efb"
      },
      "execution_count": null,
      "outputs": [
        {
          "output_type": "stream",
          "name": "stdout",
          "text": [
            "for is python keyword\n",
            "akanksha is not a python keyword\n",
            "elif is python keyword\n",
            "elseif is not a python keyword\n",
            "nikhil is not a python keyword\n",
            "assert is python keyword\n",
            "shambhavi is not a python keyword\n",
            "True is python keyword\n",
            "False is python keyword\n",
            "akshat is not a python keyword\n",
            "akash is not a python keyword\n",
            "break is python keyword\n",
            "ashty is not a python keyword\n",
            "lambda is python keyword\n",
            "suman is not a python keyword\n",
            "try is python keyword\n",
            "vaishnavi is not a python keyword\n",
            "try is python keyword\n",
            "break is python keyword\n"
          ]
        }
      ]
    },
    {
      "cell_type": "code",
      "source": [
        "\n",
        "# Create a list and tuple in Python, and demonstrate how attempting to change an element works differently for each\n",
        "list_1=[1,45,\"akanksha\",\"pwskills\",4.00,\"true\"]\n",
        "print(list_1)\n",
        "list_1[2]=36\n",
        "print(list_1)\n",
        "tuple_1=(1,45,\"akanksha\",\"pwskills\",4.00,\"true\")\n",
        "print(tuple_1)\n",
        "tuple_1[2]=36   #this will not run becouse tuple is immutable\n",
        "print(tuple_1)\n",
        "\n",
        " #here the differecnce in list and tuple list is mutable and tuple is immutable\n",
        "#in list you can change the element after compile the code but in tuple you cannot change the code after execution\n"
      ],
      "metadata": {
        "colab": {
          "base_uri": "https://localhost:8080/",
          "height": 263
        },
        "id": "Xyibt6d5WQLq",
        "outputId": "28198190-e6e7-4ff3-b985-a94103e88959"
      },
      "execution_count": null,
      "outputs": [
        {
          "output_type": "stream",
          "name": "stdout",
          "text": [
            "[1, 45, 'akanksha', 'pwskills', 4.0, 'true']\n",
            "[1, 45, 36, 'pwskills', 4.0, 'true']\n",
            "(1, 45, 'akanksha', 'pwskills', 4.0, 'true')\n"
          ]
        },
        {
          "output_type": "error",
          "ename": "TypeError",
          "evalue": "'tuple' object does not support item assignment",
          "traceback": [
            "\u001b[0;31m---------------------------------------------------------------------------\u001b[0m",
            "\u001b[0;31mTypeError\u001b[0m                                 Traceback (most recent call last)",
            "\u001b[0;32m<ipython-input-50-349bffca7ade>\u001b[0m in \u001b[0;36m<cell line: 8>\u001b[0;34m()\u001b[0m\n\u001b[1;32m      6\u001b[0m \u001b[0mtuple_1\u001b[0m\u001b[0;34m=\u001b[0m\u001b[0;34m(\u001b[0m\u001b[0;36m1\u001b[0m\u001b[0;34m,\u001b[0m\u001b[0;36m45\u001b[0m\u001b[0;34m,\u001b[0m\u001b[0;34m\"akanksha\"\u001b[0m\u001b[0;34m,\u001b[0m\u001b[0;34m\"pwskills\"\u001b[0m\u001b[0;34m,\u001b[0m\u001b[0;36m4.00\u001b[0m\u001b[0;34m,\u001b[0m\u001b[0;34m\"true\"\u001b[0m\u001b[0;34m)\u001b[0m\u001b[0;34m\u001b[0m\u001b[0;34m\u001b[0m\u001b[0m\n\u001b[1;32m      7\u001b[0m \u001b[0mprint\u001b[0m\u001b[0;34m(\u001b[0m\u001b[0mtuple_1\u001b[0m\u001b[0;34m)\u001b[0m\u001b[0;34m\u001b[0m\u001b[0;34m\u001b[0m\u001b[0m\n\u001b[0;32m----> 8\u001b[0;31m \u001b[0mtuple_1\u001b[0m\u001b[0;34m[\u001b[0m\u001b[0;36m2\u001b[0m\u001b[0;34m]\u001b[0m\u001b[0;34m=\u001b[0m\u001b[0;36m36\u001b[0m   \u001b[0;31m#this will not run becouse tuple is immutable\u001b[0m\u001b[0;34m\u001b[0m\u001b[0;34m\u001b[0m\u001b[0m\n\u001b[0m\u001b[1;32m      9\u001b[0m \u001b[0mprint\u001b[0m\u001b[0;34m(\u001b[0m\u001b[0mtuple_1\u001b[0m\u001b[0;34m)\u001b[0m\u001b[0;34m\u001b[0m\u001b[0;34m\u001b[0m\u001b[0m\n\u001b[1;32m     10\u001b[0m \u001b[0;34m\u001b[0m\u001b[0m\n",
            "\u001b[0;31mTypeError\u001b[0m: 'tuple' object does not support item assignment"
          ]
        }
      ]
    },
    {
      "cell_type": "markdown",
      "source": [],
      "metadata": {
        "id": "wKd32V-6An8V"
      }
    },
    {
      "cell_type": "code",
      "source": [
        "# Write a function to demonstrate the behavior of mutable and immutable arguments\n",
        "\n",
        "a=\"your are an python expert\"\n",
        "print(a)\n",
        "type(a)\n",
        "a(0)=i\n",
        "print(a)\n",
        "# when we run the code string is imutable type it cannot be change after the compilation\n",
        "\n",
        "# string is immutable\n",
        "num=(\"akanksha\",24,\"bird\",\"you\",23,)\n",
        "print(num)\n",
        "type(num)\n",
        "num(4)=\"parot\"\n",
        "print(num)\n",
        "\n",
        "# when we run the code tuple is imutable type it cannot be change after the compilation\n",
        "\n",
        "student=[\"name\",\"age\",22,\"exam\"]\n",
        "print(student)\n",
        "student[3]=32\n",
        "print(student)\n",
        "type(student)\n",
        "\n",
        "#  when we run the code list is mutable type it can be change after the compilation"
      ],
      "metadata": {
        "colab": {
          "base_uri": "https://localhost:8080/",
          "height": 106
        },
        "id": "ThNB1j2IiZSU",
        "outputId": "d814ab9a-6e2c-492e-9714-39d874c261f6"
      },
      "execution_count": null,
      "outputs": [
        {
          "output_type": "error",
          "ename": "SyntaxError",
          "evalue": "cannot assign to function call here. Maybe you meant '==' instead of '='? (<ipython-input-2-6828801ac548>, line 6)",
          "traceback": [
            "\u001b[0;36m  File \u001b[0;32m\"<ipython-input-2-6828801ac548>\"\u001b[0;36m, line \u001b[0;32m6\u001b[0m\n\u001b[0;31m    a(0)=i\u001b[0m\n\u001b[0m    ^\u001b[0m\n\u001b[0;31mSyntaxError\u001b[0m\u001b[0;31m:\u001b[0m cannot assign to function call here. Maybe you meant '==' instead of '='?\n"
          ]
        }
      ]
    },
    {
      "cell_type": "code",
      "source": [
        "# Write a program to demonstrate the use of logical operators\n",
        "x = 10\n",
        "y = 5\n",
        "z = 0\n",
        "\n",
        "# Using 'and' operator\n",
        "print(\"x > y and y > z: {x > y and y > z}\")  # this is true x > y (10 > 5) and y > z (5 > 0)\n",
        "\n",
        "# Using 'or' operator\n",
        "print(\"x < y or y > z: {x < y or y > z}\")  # True because y > z (5 > 0), even though x < y is False\n",
        "\n",
        "# Using 'not' operator\n",
        "print(\"not (x == y): {not (x == y)}\")  # True because x is not equal to y (10 != 5)\n",
        "\n",
        "# Combining multiple logical operators\n",
        "print(\"(x > y and y > z) or (z == 0): {(x > y and y > z) or (z == 0)}\")  # True because both conditions are true\n",
        "\n",
        "# Using 'not' with an expression\n",
        "print(\"not (x < 5): {not (x < 5)}\")  # This statement also a true x is not less than 5 (10 is not < 5)\n",
        "\n"
      ],
      "metadata": {
        "colab": {
          "base_uri": "https://localhost:8080/"
        },
        "id": "PTG0JtuZdYwg",
        "outputId": "e0b5fc72-1ae3-41e2-dd9a-63b6d25eb9ce"
      },
      "execution_count": null,
      "outputs": [
        {
          "output_type": "stream",
          "name": "stdout",
          "text": [
            "x > y and y > z: {x > y and y > z}\n",
            "x < y or y > z: {x < y or y > z}\n",
            "not (x == y): {not (x == y)}\n",
            "(x > y and y > z) or (z == 0): {(x > y and y > z) or (z == 0)}\n",
            "not (x < 5): {not (x < 5)}\n"
          ]
        }
      ]
    },
    {
      "cell_type": "code",
      "source": [
        "# Write a Python program to convert user input from string to integer, float, and boolean type?\n",
        "a=\"56\"\n",
        "e=str(a)\n",
        "print(e)\n",
        "b=float(a)   # convert string into float\n",
        "print(b)\n",
        "c=int(a)     #convert string into int\n",
        "print(a)\n",
        "d=bool(a)<35  #convert string into boolean\n",
        "print(d)"
      ],
      "metadata": {
        "colab": {
          "base_uri": "https://localhost:8080/"
        },
        "id": "Gso24CL7xzQd",
        "outputId": "0470b4d8-53f3-4d4c-f4b2-02451dcb73ef"
      },
      "execution_count": null,
      "outputs": [
        {
          "output_type": "stream",
          "name": "stdout",
          "text": [
            "56\n",
            "56.0\n",
            "56\n",
            "True\n"
          ]
        }
      ]
    },
    {
      "cell_type": "code",
      "source": [
        "#  Write code to demonstrate type casting with list elements?\n",
        "company=[\"employee\",\"435\",367,34.8,\"19\",True]\n",
        "print(company)\n",
        "new_list=[\n",
        "    int(company[1]),\n",
        "    float(company[2]),\n",
        "    str(company[4]),\n",
        "    int(company[5])]\n",
        "print(\"new_list:\",new_list)\n"
      ],
      "metadata": {
        "id": "-q15n7ib2Swf",
        "colab": {
          "base_uri": "https://localhost:8080/"
        },
        "outputId": "4ba1e396-d6ed-4c68-d23f-c47670776348"
      },
      "execution_count": null,
      "outputs": [
        {
          "output_type": "stream",
          "name": "stdout",
          "text": [
            "['employee', '435', 367, 34.8, '19', True]\n",
            "new_list: [435, 367.0, '19', 1]\n"
          ]
        }
      ]
    },
    {
      "cell_type": "code",
      "source": [
        "#  Write a program that checks if a number is positive, negative, or zero?\n",
        "number = int(input(\"Enter a number: \"))\n",
        "if number > 0:\n",
        "    print(\"The number is positive.\")\n",
        "elif number < 0:\n",
        "    print(\"The number is negative.\")\n",
        "else:\n",
        "    print(\"The number is zero.\")\n"
      ],
      "metadata": {
        "colab": {
          "base_uri": "https://localhost:8080/"
        },
        "id": "lovErOOM9MXG",
        "outputId": "a143c374-b04b-4d21-8812-c485ba62811e"
      },
      "execution_count": null,
      "outputs": [
        {
          "output_type": "stream",
          "name": "stdout",
          "text": [
            "Enter a number: -67\n",
            "The number is negative.\n"
          ]
        }
      ]
    },
    {
      "cell_type": "code",
      "source": [
        "# Write a for loop to print numbers from 1 to 10?\n",
        "list(range(0,10))\n",
        "for i in range(0,11):\n",
        "  print(i,end=\" \")\n"
      ],
      "metadata": {
        "colab": {
          "base_uri": "https://localhost:8080/"
        },
        "id": "-TThKKwHC4TJ",
        "outputId": "f1bc9cff-a170-4e7e-9241-2f82516dd199"
      },
      "execution_count": null,
      "outputs": [
        {
          "output_type": "stream",
          "name": "stdout",
          "text": [
            "0 1 2 3 4 5 6 7 8 9 10 "
          ]
        }
      ]
    },
    {
      "cell_type": "code",
      "source": [
        "# Write a Python program to find the sum of all even numbers between 1 and 500?\n",
        "sum=0\n",
        "for i in range(1,50):\n",
        "  if i%2==0:\n",
        "    sum=sum+i\n",
        "    print(sum)\n",
        "\n",
        "\n",
        "\n"
      ],
      "metadata": {
        "colab": {
          "base_uri": "https://localhost:8080/"
        },
        "id": "jdUrBCcUEo-m",
        "outputId": "aeb8f16c-96c8-4dc8-c5ec-28efff5a0e6f"
      },
      "execution_count": 7,
      "outputs": [
        {
          "output_type": "stream",
          "name": "stdout",
          "text": [
            "2\n",
            "6\n",
            "12\n",
            "20\n",
            "30\n",
            "42\n",
            "56\n",
            "72\n",
            "90\n",
            "110\n",
            "132\n",
            "156\n",
            "182\n",
            "210\n",
            "240\n",
            "272\n",
            "306\n",
            "342\n",
            "380\n",
            "420\n",
            "462\n",
            "506\n",
            "552\n",
            "600\n"
          ]
        }
      ]
    },
    {
      "cell_type": "code",
      "source": [
        "# Write a program to reverse a string using a while loop?\n",
        "name= str((input(\"Enter the name: \")))\n",
        "i = len(name) - 1\n",
        "\n",
        "while i >= 0:\n",
        "    print(name[i], end = '')\n",
        "    i = i - 1"
      ],
      "metadata": {
        "id": "fvU5dluXFwG6",
        "colab": {
          "base_uri": "https://localhost:8080/"
        },
        "outputId": "54564142-2718-47ca-bfee-ed955d1f01bd"
      },
      "execution_count": 14,
      "outputs": [
        {
          "output_type": "stream",
          "name": "stdout",
          "text": [
            "Enter the name: akanksha\n",
            "ahsknaka"
          ]
        }
      ]
    },
    {
      "cell_type": "code",
      "source": [
        "#  Write a Python program to calculate the factorial of a number provided by the user using a while loop?\n",
        "number=(int(input(\"enter the number\")))\n",
        "factorial=1\n",
        "while number>0:\n",
        "  factorial=factorial*number\n",
        "  number=number-1\n",
        "\n",
        "  print(factorial)"
      ],
      "metadata": {
        "colab": {
          "base_uri": "https://localhost:8080/"
        },
        "id": "SStx4JFh52xC",
        "outputId": "fa113b04-3771-41cd-aa59-e98290fe7c55"
      },
      "execution_count": 27,
      "outputs": [
        {
          "output_type": "stream",
          "name": "stdout",
          "text": [
            "enter the number3\n",
            "3\n",
            "6\n",
            "6\n"
          ]
        }
      ]
    },
    {
      "cell_type": "code",
      "source": [
        "fact = 1\n",
        "i = 1\n",
        "num = int(input(\"Enter a number: \"))\n",
        "if num < 0:\n",
        "    print(\"Sorry, factorial does not exist for negative numbers\")\n",
        "else:\n",
        "    while i <= num:\n",
        "        fact = fact*i\n",
        "        i = i + 1\n",
        "    print(\"The factorial of\", num, \"is\", fact)"
      ],
      "metadata": {
        "colab": {
          "base_uri": "https://localhost:8080/"
        },
        "id": "Jk0AurlZ8KWg",
        "outputId": "0c0f6cdb-b6dc-43f9-f569-3170b4019783"
      },
      "execution_count": 26,
      "outputs": [
        {
          "output_type": "stream",
          "name": "stdout",
          "text": [
            "Enter a number: 6\n",
            "The factorial of 6 is 720\n"
          ]
        }
      ]
    }
  ]
}